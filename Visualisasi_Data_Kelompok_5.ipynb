{
  "nbformat": 4,
  "nbformat_minor": 0,
  "metadata": {
    "colab": {
      "provenance": []
    },
    "kernelspec": {
      "name": "python3",
      "display_name": "Python 3"
    },
    "language_info": {
      "name": "python"
    }
  },
  "cells": [
    {
      "cell_type": "markdown",
      "source": [
        "---\n",
        "# **KELOMPOK 5 VISUALISASI DATA**\n"
      ],
      "metadata": {
        "id": "JCewjLlqkOzI"
      }
    },
    {
      "cell_type": "markdown",
      "source": [
        "# **TEMA : GENDER EQUALITY IN INDONESIA**\n",
        "\n",
        "\n",
        "---\n",
        "\n"
      ],
      "metadata": {
        "id": "jH-eIYPqkc_W"
      }
    },
    {
      "cell_type": "markdown",
      "source": [
        "# **Ketua Proyek :**\n",
        "\n",
        "Safira Oktarini (1197050124)\n",
        "\n",
        "# **Anggota :**\n",
        "\n",
        "Ashrul Nashrulloh (1197050020)\n",
        "\n",
        "Fawzan Ibnu Fajar (1197050042)\n",
        "\n",
        "Khoirul Ummam (1197050059)"
      ],
      "metadata": {
        "id": "nmKrGY7Yk0nF"
      }
    },
    {
      "cell_type": "markdown",
      "source": [
        "# **Business Understanding**\n",
        "\n",
        "Business Understanding berisi mengenai pemaparan tema melalui sudut pandang objektif bisnis meliputi Latar Belakang Masalah, Identifikasi Masalah, Metode atau Pendekatan Penyelesaian Masalah, Tujuan Teknis dan Kriteria Kesuksesan. Setelah seluruh pemaparan tersebut disampaikan terdapat Timeline riset guna memberi tenggat waktu dalam mencapai hasil akhir riset."
      ],
      "metadata": {
        "id": "CB51_lHcljR6"
      }
    },
    {
      "cell_type": "markdown",
      "source": [
        "# **Latar Belakang Masalah**\n",
        "\n",
        "Diskriminasi gender dalam berbagai hal di kehidupan bermasyarakat\n",
        "menimbulkan perbedaan capaian pembangunan antara laki-laki dan\n",
        "perempuan. Indonesia telah menetapkan pendekatan pembangunan\n",
        "yang berorientasi pada kesetaraan dan keadilan gender. Sejumlah\n",
        "regulasi internasional sudah diratifikasi oleh pemerintah sebagai bentuk\n",
        "komitmen di tingkat global. Norma pembangunan yang diterapkan\n",
        "dalam RPJMN 2015-2019 menekankan pentingnya membangun\n",
        "kualitas hidup manusia dan masyarakat, serta menegaskan bahwa\n",
        "setiap upaya meningkatkan kesejahteran, kemakmuran, produktifitas\n",
        "tidak boleh menciptakan ketimpangan yang makin melebar sehingga\n",
        "dapat merusak keseimbangan pembangunan. Tujuan penelitian ini, yaitu untuk memprediksi pengaruh pengaplikasian kesetaraan gender di masa mendatang. Riset ini berfokus pada forecasting analysis yang mengidentifikasi sejauh mana perkembangan gender equality telah terjadi di Indonesia."
      ],
      "metadata": {
        "id": "-LJbixn7muyq"
      }
    },
    {
      "cell_type": "markdown",
      "source": [
        "# **Identifikasi Masalah**\n",
        "\n",
        "Berikut merupakan identifikasi masalah dalam awal rancangan pembuatan riset Gender Equality In Indonesia:\n",
        "\n",
        "1. Rendahnya persentase perempuan pada sektor pekerjaan formal dibanding laki laki\n",
        "2. Kualitas kompetensi perempuan pada kepemimpinan dan manajemen yang masih lebih rendah dibanding laki laki\n",
        "3. Pengaruh pendidikan pada pekerjaan berdasarkan gender dinilai masih tidak seimbang\n",
        "\n",
        "Rumusan masalah diatas dapat diolah kembali untuk digunakan dalam menemukan hasil riset apa yang ingin diketahui. Berikut adalah wisdom yang ingin dicapai saat melakukan riset Gender Equality In Indonesia:\n",
        "\n",
        "1. Mengetahui tingkat profesionalisme gender dalam sektor pekerjaan formal dalam kurun waktu 2010 - 2019\n",
        "2. Mengetahui kemajuan kompetensi gender pada kepemimpinan dan manajemen di ranah publik\n",
        "3. Mengetahui pengaruh pendidikan berdasarkan gender dalam kualifikasi pekerjaan sebagai pegawai negeri sipil (PNS)\n",
        "4. Sehingga selanjutnya dapat merancang suatu solusi yang tepat guna memecahkan permasalahan gender pada 3 sektor diatas.\n"
      ],
      "metadata": {
        "id": "trpTTiMvqJa7"
      }
    },
    {
      "cell_type": "markdown",
      "source": [
        "# **Metode/ Pendekatan Penyelesaian Masalah**\n",
        "\n",
        "Dalam riset Gender Equality In Indonesia kami menggunakan metode Time Series Forecasting (Regresi). Metode ini akan digunakan untuk memprediksi data Gender di 3 sektor pada tahun selanjutnya, sehingga apabila hasilnya meningkat maka metode yang saat ini digunakan untuk mendukung kesetaraan gender dapat dipertahankan, begitu pula sebaliknya apabila prediksinya menurun di tahun selanjutnya, maka metode yang saat ini digunakan harus di perbarui.\n",
        "\n",
        "Kami akan menggunakan data dari https://www.kaggle.com/datasets ataupun data https://www.bps.go.id/subject/40/gender.html#subjekViewTab3 sebagai acuan awal informasi riset kedepannya."
      ],
      "metadata": {
        "id": "nTFd3ekdqNjD"
      }
    },
    {
      "cell_type": "markdown",
      "source": [
        "# **Tujuan Teknis**\n",
        "\n",
        "Tujuan riset ini yaitu untuk mengetahui hal-hal apa saja yang menghambat kesetaraan gender ini berkembang di masyaraka; tingkat gender equality di Indonesia dari waktu ke waktu; dan bagaimana dampak serta pengaruh apa yang mendasari keharusan adanya gender equality di suatu lingkungan."
      ],
      "metadata": {
        "id": "sQKoH7v-qhnY"
      }
    },
    {
      "cell_type": "markdown",
      "source": [
        "# **Kriteria Kesuksesan**\n",
        "Kriteria kesuksesan riset ini yaitu terjawabnya seluruh wisdom yang ada dan mendapatkan data yang membuktikan kebenaran rumusan masalah yang telah dipaparkan di atas. Dengan terjawabnya wisdom yang ada maka akan memberikan kesimpulan mengenai bagaimana penerapan gender equality di Indonesia dan apa langkah yang harus dilakukan kedepannya."
      ],
      "metadata": {
        "id": "P1_X6EEMxUF-"
      }
    },
    {
      "cell_type": "markdown",
      "source": [
        "# **Timeline Mini Riset**\n",
        "\n",
        "Riset ini akan dilaksanakan selama 6 minggu mencakup data understanding hingga penyerahan artikel laporan yang dapat dirincikan kembali dengan tambahan deadline waktu sebagai berikut:\n",
        "\n",
        "Tanggal 17 November 2022\n",
        "\n",
        "\n",
        "*   Fiksasi Tema\n",
        "*   Business Understanding\n",
        "\n",
        "\n",
        "Tanggal 23 November 2022\n",
        "\n",
        "\n",
        "*   Data Understanding\n",
        "\n",
        "Tanggal 30 November 2022 (Offline)\n",
        "\n",
        "\n",
        "*   Data Preparation \n",
        "\n",
        "  Output: Dashboarding\n",
        "\n",
        "\n",
        "Tanggal 7 Desember 2022\n",
        "\n",
        "\n",
        "*   Modeling\n",
        "\n",
        "Tanggal 14 Desember 2022\n",
        "\n",
        "\n",
        "*   Modeling Evaluation\n",
        "\n",
        "Tanggal 21 Desember 2022 UAS\n",
        "\n",
        "\n",
        "*   Dashbording\n",
        "*   Machine Learning\n",
        "*   Artikel\n",
        "\n",
        "Note: Riset selanjutnya dapat menggunakan bahasa pemrograma python dan aplikasi tableau. Penulisan artikel dapat digunakan untuk event ICCED Malaysia"
      ],
      "metadata": {
        "id": "2k5n5WlpxeCV"
      }
    }
  ]
}